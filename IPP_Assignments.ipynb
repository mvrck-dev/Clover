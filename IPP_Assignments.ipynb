{
 "cells": [
  {
   "cell_type": "code",
   "execution_count": null,
   "metadata": {},
   "outputs": [],
   "source": [
    "# Temperature Converter\n",
    "input_temp = input(\"Enter the temperature: \")\n",
    "input_unit = input(\"Enter the unit (°C | °F | °K): \").lower()\n",
    "conv_unit = input(\"Enter the unit to convert to (°C | °F | °K): \").lower()\n",
    "\n",
    "if input_unit == \"c\" and conv_unit == \"f\":\n",
    "    output_temp = float(input_temp) * 9 / 5 + 32\n",
    "    print(output_temp, \"°F\")\n",
    "elif input_unit == \"f\" and conv_unit == \"c\":\n",
    "    output_temp = (float(input_temp) - 32) * 5 / 9\n",
    "    print(output_temp, \"°C\")\n",
    "elif input_unit == \"c\" and conv_unit == \"k\":\n",
    "    output_temp = float(input_temp) + 273.15\n",
    "    print(output_temp, \"°K\")\n",
    "elif input_unit == \"k\" and conv_unit == \"c\":\n",
    "    output_temp = float(input_temp) - 273.15\n",
    "    print(output_temp, \"°C\")\n",
    "elif input_unit == \"f\" and conv_unit == \"k\":\n",
    "    output_temp = (float(input_temp) - 32) * 5 / 9 + 273.15\n",
    "    print(output_temp, \"°K\")\n",
    "elif input_unit == \"k\" and conv_unit == \"f\":\n",
    "    output_temp = (float(input_temp) - 273.15) * 9 / 5 + 32\n",
    "    print(output_temp, \"°F\")\n",
    "else:\n",
    "    print(\"Invalid Inputs\")\n"
   ]
  },
  {
   "cell_type": "code",
   "execution_count": 1,
   "metadata": {},
   "outputs": [
    {
     "name": "stdout",
     "output_type": "stream",
     "text": [
      "* * * * * \n",
      "* * * * \n",
      "* * * \n",
      "* * \n",
      "* \n",
      "\n",
      "\n"
     ]
    }
   ],
   "source": [
    "# Python program to create patterns\n",
    "# Half Inverted Pyramid\n",
    "\n",
    "n = int(input(\"Enter the number of rows: \"))\n",
    "num = 1\n",
    "for i in range(n, 0, -1):\n",
    "    for j in range(0, i):\n",
    "        print(num, end=\" \")\n",
    "        num += 1\n",
    "    print()\n",
    "print(\"\\n\")\n",
    "# # Half Pyramid\n",
    "# n = int(input(\"Enter number of rows: \"))\n",
    "# for i in range(0, n):\n",
    "#     for j in range(0, i + 1):\n",
    "#         print(\"*\", end=\" \")\n",
    "#     print()\n",
    "# print(\"\\n\")\n",
    "# # Hollow Half Pyramid\n",
    "# n = int(input(\"Enter number of rows: \"))\n",
    "# for i in range(0, n):\n",
    "#     for j in range(0, i + 1):\n",
    "#         if i == 0 or i == n - 1 or j == 0 or j == i:\n",
    "#             print(\"*\", end=\" \")\n",
    "#         else:\n",
    "#             print(\" \", end=\" \")\n",
    "#     print()\n",
    "# print(\"\\n\")\n",
    "# # Full Pyramid\n",
    "# n = int(input(\"Enter number of rows: \"))\n",
    "# for i in range(0, n):\n",
    "#     for j in range(0, n - i - 1):\n",
    "#         print(end=\" \")\n",
    "#     for j in range(0, i + 1):\n",
    "#         print(\"*\", end=\" \")\n",
    "#     print()\n",
    "# print(\"\\n\")\n",
    "# # Hollow Full Pyramid\n",
    "# n = int(input(\"Enter number of rows: \"))\n",
    "# for i in range(0, n):\n",
    "#     for j in range(0, n - i - 1):\n",
    "#         print(end=\" \")\n",
    "#     for j in range(0, i + 1):\n",
    "#         if i == 0 or i == n - 1 or j == 0 or j == i:\n",
    "#             print(\"*\", end=\" \")\n",
    "#         else:\n",
    "#             print(\" \", end=\" \")\n",
    "#     print()\n",
    "# print(\"\\n\")\n",
    "# # Inverted Hollow Half Pyramid\n",
    "# n = int(input(\"Enter number of rows: \"))\n",
    "# for i in range(n, 0, -1):\n",
    "#     for j in range(0, i):\n",
    "#         if i == n or i == 1 or j == 0 or j == i - 1:\n",
    "#             print(\"*\", end=\" \")\n",
    "#         else:\n",
    "#             print(\" \", end=\" \")\n",
    "#     print()\n"
   ]
  },
  {
   "cell_type": "code",
   "execution_count": 11,
   "metadata": {},
   "outputs": [
    {
     "name": "stdout",
     "output_type": "stream",
     "text": [
      "10.0\n",
      "0.0\n",
      "0.0\n",
      "10000 milliseconds is converted to 0.0 Hour(s) 0.0 Minute(s) and 10.0 Second(s).\n"
     ]
    }
   ],
   "source": [
    "# Convert milliseconds to hours, minutes and seconds.\n",
    "\n",
    "def ms_convt(ms):\n",
    "    s = ms / 1000\n",
    "    mns = s // 60\n",
    "    hrs = mns // 60\n",
    "    mins_remainder = mns % 60\n",
    "    secs = s % 60\n",
    "    print(f\"{ms} milliseconds is converted to {hrs} hour(s), {mins_remainder} minute(s), and {secs} second(s).\")\n",
    "\n",
    "t_inp = int(input(\"Enter Time in Milliseconds (ms): \"))\n",
    "ms_convt(t_inp)\n",
    "\n"
   ]
  },
  {
   "cell_type": "code",
   "execution_count": null,
   "metadata": {},
   "outputs": [],
   "source": [
    "#Compute a sales commission, given the sales amount and the commission rate.\n",
    "\n",
    "t_Sales = float(input(\"Enter your total sales: \"))\n",
    "\n",
    "def commission_"
   ]
  },
  {
   "cell_type": "code",
   "execution_count": null,
   "metadata": {},
   "outputs": [],
   "source": [
    "# Half Inverted Pyramid\n",
    "\n",
    "n = int(input(\"Enter the number of rows: \"))\n",
    "num = 1\n",
    "st = 1\n",
    "for i in range(n, 0, -1):\n",
    "    for j in range(0, i):\n",
    "        print(j+1, end=\" \")\n",
    "        num += 1\n",
    "    print()\n",
    "print(\"\\n\")\n",
    "\n",
    "#Full lf Pyramid\n",
    "n = int(input(\"Enter the number of rows: \"))\n",
    "for i in range(1, n + 1):\n",
    "    num = 1  # Reset num to 1 at the beginning of each row\n",
    "    print(\" \" * (n - i), end=\" \")\n",
    "    for j in range(1, i + 1):\n",
    "        print(num, end=\" \")\n",
    "        num += 1\n",
    "    print()\n",
    "\n",
    "# Half Pyramid\n",
    "n = int(input(\"Enter the number of rows: \"))\n",
    "for i in range(1, n + 1):\n",
    "    num = 1  # Reset num to 1 at the beginning of each row\n",
    "    for j in range(1, i + 1):\n",
    "        print(num, end=\" \")\n",
    "        num += 1\n",
    "    print()"
   ]
  },
  {
   "cell_type": "code",
   "execution_count": 5,
   "metadata": {},
   "outputs": [
    {
     "name": "stdout",
     "output_type": "stream",
     "text": [
      "Your commission is 100.0.\n"
     ]
    }
   ],
   "source": [
    "# Compute a sales commission, given the sales amount and the commission rate.\n",
    "\n",
    "def calculate_commission(sales_amount, commission_rate):\n",
    "    commission = sales_amount * commission_rate / 100\n",
    "    return commission\n",
    "\n",
    "# iNPUTS : 1000, 10\n",
    "\n",
    "t_Sales = float(input(\"Enter your total sales: \"))\n",
    "comm_rate = float(input(\"Enter your commission rate: \"))\n",
    "comm = calculate_commission(t_Sales, comm_rate)\n",
    "print(f\"Your commission is {comm}.\")\n"
   ]
  },
  {
   "cell_type": "code",
   "execution_count": 4,
   "metadata": {},
   "outputs": [
    {
     "name": "stdout",
     "output_type": "stream",
     "text": [
      "-40.0°C is -40.0°F.\n"
     ]
    }
   ],
   "source": [
    "# Convert Celsius to Fahrenheit\n",
    "\n",
    "def f_temp(c_temp):\n",
    "    f_temp = c_temp * 9 / 5 + 32\n",
    "    return f_temp\n",
    "\n",
    "c_temp = float(input(\"Enter the temperature in Celsius: \"))\n",
    "f_temp = f_temp(c_temp)\n",
    "print(f\"{c_temp}°C is {f_temp}°F.\")\n",
    "\n",
    "# Inputs\n",
    "# -40\n"
   ]
  },
  {
   "cell_type": "code",
   "execution_count": 3,
   "metadata": {},
   "outputs": [
    {
     "name": "stdout",
     "output_type": "stream",
     "text": [
      "Monthly Payment: Rs.599.4179420933111\n"
     ]
    }
   ],
   "source": [
    "# Compute the monthly payment, given the loan amount, number of years and the annual interest rate.\n",
    "#input: 100000, 2, 17.5\n",
    "\n",
    "def calculate_monthly_payment(loan_amount, annual_interest_rate, num_years):\n",
    "    monthly_interest_rate = annual_interest_rate / 12 / 100\n",
    "    num_months = num_years * 12\n",
    "    monthly_payment = loan_amount * (monthly_interest_rate * (1 + monthly_interest_rate) ** num_months) / ((1 + monthly_interest_rate) ** num_months - 1)\n",
    "    return monthly_payment\n",
    "\n",
    "# Inputs\n",
    "# loan_amount = 20000\n",
    "# annual_interest_rate = 5\n",
    "# num_years = 3\n",
    "\n",
    "loan_amount = float(input(\"Enter the loan amount: \"))\n",
    "annual_interest_rate = float(input(\"Enter the annual interest rate: \"))\n",
    "num_years = float(input(\"Enter the number of years: \"))\n",
    "\n",
    "\n",
    "monthly_payment = calculate_monthly_payment(loan_amount, annual_interest_rate, num_years)\n",
    "print(f\"Monthly Payment: Rs.{monthly_payment}\")"
   ]
  },
  {
   "cell_type": "code",
   "execution_count": 1,
   "metadata": {},
   "outputs": [
    {
     "name": "stdout",
     "output_type": "stream",
     "text": [
      "Surface Area: 2600\n"
     ]
    }
   ],
   "source": [
    "# Surface area of a prism can be calculated if the lengths of the\n",
    "# three sides are known. Write a Python program that takes the\n",
    "# sides as input (read it as an integer) and prints the surface area of\n",
    "# the prism (Surface Area = 2ab + 2bc + 2ca).\n",
    "\n",
    "def surface_area(a, b, c):\n",
    "    surface_area = 2 * a * b + 2 * b * c + 2 * c * a\n",
    "    return surface_area\n",
    "\n",
    "a = int(input(\"Enter the length of side a: \"))\n",
    "b = int(input(\"Enter the length of side b: \"))\n",
    "c = int(input(\"Enter the length of side c: \"))\n",
    "\n",
    "surface_area = surface_area(a, b, c)\n",
    "print(f\"Surface Area: {surface_area}\")\n",
    "\n",
    "# Inputs 25, 10, 30\n"
   ]
  },
  {
   "cell_type": "code",
   "execution_count": 10,
   "metadata": {},
   "outputs": [
    {
     "ename": "ValueError",
     "evalue": "invalid literal for int() with base 10: ''",
     "output_type": "error",
     "traceback": [
      "\u001b[0;31m---------------------------------------------------------------------------\u001b[0m",
      "\u001b[0;31mValueError\u001b[0m                                Traceback (most recent call last)",
      "\u001b[1;32m/Users/ray/SIT/IPP/Python Assignments/IPP_Assignments.ipynb Cell 10\u001b[0m line \u001b[0;36m1\n\u001b[1;32m      <a href='vscode-notebook-cell:/Users/ray/SIT/IPP/Python%20Assignments/IPP_Assignments.ipynb#X12sZmlsZQ%3D%3D?line=8'>9</a>\u001b[0m   \u001b[39mreturn\u001b[39;00m \u001b[39m\"\u001b[39m\u001b[39mThe rotated text is \u001b[39m\u001b[39m\"\u001b[39m \u001b[39m+\u001b[39m \u001b[39mstr\u001b[39m(rotated_text)\n\u001b[1;32m     <a href='vscode-notebook-cell:/Users/ray/SIT/IPP/Python%20Assignments/IPP_Assignments.ipynb#X12sZmlsZQ%3D%3D?line=10'>11</a>\u001b[0m st_in \u001b[39m=\u001b[39m \u001b[39minput\u001b[39m(\u001b[39m\"\u001b[39m\u001b[39mEnter a string to encode\u001b[39m\u001b[39m\"\u001b[39m)\u001b[39m.\u001b[39mupper()\n\u001b[0;32m---> <a href='vscode-notebook-cell:/Users/ray/SIT/IPP/Python%20Assignments/IPP_Assignments.ipynb#X12sZmlsZQ%3D%3D?line=11'>12</a>\u001b[0m shift_key \u001b[39m=\u001b[39m \u001b[39mint\u001b[39;49m(\u001b[39minput\u001b[39;49m(\u001b[39m\"\u001b[39;49m\u001b[39mEnter the shift key:\u001b[39;49m\u001b[39m\"\u001b[39;49m))\n\u001b[1;32m     <a href='vscode-notebook-cell:/Users/ray/SIT/IPP/Python%20Assignments/IPP_Assignments.ipynb#X12sZmlsZQ%3D%3D?line=13'>14</a>\u001b[0m rotate_text(st_in, shift_key)\n\u001b[1;32m     <a href='vscode-notebook-cell:/Users/ray/SIT/IPP/Python%20Assignments/IPP_Assignments.ipynb#X12sZmlsZQ%3D%3D?line=15'>16</a>\u001b[0m \u001b[39m# Inputs: MELON, -10 | HAL , 1 | CHEER , 7\u001b[39;00m\n",
      "\u001b[0;31mValueError\u001b[0m: invalid literal for int() with base 10: ''"
     ]
    }
   ],
   "source": [
    "#Rotate text \n",
    "characters = ['A', 'B', 'C', 'D', 'E', 'F', 'G', 'H', 'I', 'J', 'K', 'L', 'M', 'N', 'O', 'P', 'Q', 'R', 'S', 'T', 'U', 'V', 'W', 'X', 'Y', 'Z']\n",
    "def rotate_text(plain_text, shift_key):\n",
    "  rotated_text = \"\"\n",
    "  for letter in plain_text:\n",
    "    position = characters.index(letter)\n",
    "    new_position = position + shift_key\n",
    "    rotated_text += characters[new_position]\n",
    "    # if letter in characters:\n",
    "    #         position = characters.index(letter)\n",
    "    #         new_position = (position + shift_key) % 26\n",
    "    #         rotated_text += characters[new_position]\n",
    "    # else:\n",
    "    #     rotated_text += letter \n",
    "  return \"The rotated text is \" + str(rotated_text)\n",
    "\n",
    "st_in = input(\"Enter a string to encode: \").upper()\n",
    "shift_key = int(input(\"Enter the shift key: \"))\n",
    "\n",
    "print(rotate_text(st_in, shift_key))\n",
    "\n",
    "# Inputs: MELON, -10 | HAL , 1 | CHEER , 7\n",
    "\n",
    "\n",
    "\n",
    "\n"
   ]
  },
  {
   "cell_type": "code",
   "execution_count": 4,
   "metadata": {},
   "outputs": [
    {
     "name": "stdout",
     "output_type": "stream",
     "text": [
      "Input String: aeiou\n",
      "Vowels: 5 | Consonants: 0\n"
     ]
    }
   ],
   "source": [
    "#Task 1:\n",
    "\n",
    "def char_type_count(st_inp):\n",
    "    vowels = ['a', 'e', 'i', 'o', 'u']\n",
    "    v_count = 0\n",
    "    c_count = 0\n",
    "    for letter in st_inp:\n",
    "        if letter in vowels:\n",
    "            v_count += 1\n",
    "        else:\n",
    "            c_count += 1\n",
    "    return v_count, c_count\n",
    "\n",
    "st_inp = input(\"Enter a sentence: \")\n",
    "v_count, c_count = char_type_count(st_inp)\n",
    "\n",
    "print(f\"Input String: {st_inp}\")\n",
    "print(f\"Vowels: {v_count} | Consonants: {c_count}\")\n",
    "        \n"
   ]
  },
  {
   "cell_type": "code",
   "execution_count": 1,
   "metadata": {},
   "outputs": [
    {
     "ename": "ValueError",
     "evalue": "could not convert string to float: ''",
     "output_type": "error",
     "traceback": [
      "\u001b[0;31m---------------------------------------------------------------------------\u001b[0m",
      "\u001b[0;31mValueError\u001b[0m                                Traceback (most recent call last)",
      "\u001b[1;32m/Users/ray/SIT/IPP/Python Assignments/IPP_Assignments.ipynb Cell 12\u001b[0m line \u001b[0;36m1\n\u001b[1;32m      <a href='vscode-notebook-cell:/Users/ray/SIT/IPP/Python%20Assignments/IPP_Assignments.ipynb#X14sZmlsZQ%3D%3D?line=8'>9</a>\u001b[0m     interest \u001b[39m=\u001b[39m (principal \u001b[39m*\u001b[39m rate \u001b[39m*\u001b[39m time) \u001b[39m/\u001b[39m \u001b[39m100\u001b[39m\n\u001b[1;32m     <a href='vscode-notebook-cell:/Users/ray/SIT/IPP/Python%20Assignments/IPP_Assignments.ipynb#X14sZmlsZQ%3D%3D?line=9'>10</a>\u001b[0m     \u001b[39mreturn\u001b[39;00m interest\n\u001b[0;32m---> <a href='vscode-notebook-cell:/Users/ray/SIT/IPP/Python%20Assignments/IPP_Assignments.ipynb#X14sZmlsZQ%3D%3D?line=11'>12</a>\u001b[0m principal \u001b[39m=\u001b[39m \u001b[39mfloat\u001b[39;49m(\u001b[39minput\u001b[39;49m(\u001b[39m\"\u001b[39;49m\u001b[39mEnter the principal amount: \u001b[39;49m\u001b[39m\"\u001b[39;49m))\n\u001b[1;32m     <a href='vscode-notebook-cell:/Users/ray/SIT/IPP/Python%20Assignments/IPP_Assignments.ipynb#X14sZmlsZQ%3D%3D?line=12'>13</a>\u001b[0m rate \u001b[39m=\u001b[39m \u001b[39mfloat\u001b[39m(\u001b[39minput\u001b[39m(\u001b[39m\"\u001b[39m\u001b[39mEnter the rate of interest: \u001b[39m\u001b[39m\"\u001b[39m))\n\u001b[1;32m     <a href='vscode-notebook-cell:/Users/ray/SIT/IPP/Python%20Assignments/IPP_Assignments.ipynb#X14sZmlsZQ%3D%3D?line=13'>14</a>\u001b[0m time \u001b[39m=\u001b[39m \u001b[39mint\u001b[39m(\u001b[39minput\u001b[39m(\u001b[39m\"\u001b[39m\u001b[39mEnter the time in years: \u001b[39m\u001b[39m\"\u001b[39m))\n",
      "\u001b[0;31mValueError\u001b[0m: could not convert string to float: ''"
     ]
    }
   ],
   "source": [
    "# Task2\n",
    "\n",
    "def calculate_interest(principal, rate, time):\n",
    "    interest = (principal * rate * time) / 100\n",
    "    return interest\n",
    "\n",
    "principal = float(input(\"Enter the principal amount: \"))\n",
    "rate = float(input(\"Enter the rate of interest: \"))\n",
    "time = int(input(\"Enter the time in years: \"))\n",
    "interest = calculate_interest(principal, rate, time)\n",
    "print(f\"Interest: Rs.{interest}\")\n",
    "    \n",
    "\n"
   ]
  },
  {
   "cell_type": "code",
   "execution_count": 4,
   "metadata": {},
   "outputs": [
    {
     "name": "stdout",
     "output_type": "stream",
     "text": [
      "Student Information:\n",
      "Name: w\n",
      "Age: 2\n",
      "Grade: a\n",
      "\n",
      "Student Information:\n",
      "Name: wsd\n",
      "Age: 23\n",
      "Grade: d\n",
      "\n",
      "Student Information:\n",
      "Name: 23\n",
      "Age: 23\n",
      "Grade: sd\n",
      "\n"
     ]
    }
   ],
   "source": [
    "# Task 3\n",
    "\n",
    "# enter the number of student entries to be made\n",
    "num_students = int(input(\"Enter the number of students: \"))\n",
    "\n",
    "#  Make a function to take inputs from user and place it into dictioniary and repeat it until the number of students entered by user  \n",
    "def student_info():\n",
    "    student_info = {}\n",
    "    student_info['name'] = input(\"Enter the name of the student: \")\n",
    "    student_info['age'] = int(input(\"Enter the age of the student: \"))\n",
    "    student_info['grade'] = input(\"Enter the grade of the student: \")\n",
    "    return student_info\n",
    "\n",
    "# Make a list of dictionaries of student information\n",
    "student_list = []\n",
    "for i in range(num_students):\n",
    "    student_list.append(student_info())\n",
    "\n",
    "# Function to print student information\n",
    "def print_student_info(**kwargs):\n",
    "    if all(key in kwargs for key in ('name', 'age', 'grade')):\n",
    "        print(\"Student Information:\")\n",
    "        print(f\"Name: {kwargs['name']}\")\n",
    "        print(f\"Age: {kwargs['age']}\")\n",
    "        print(f\"Grade: {kwargs['grade']}\")\n",
    "    else:\n",
    "        print(\"Incomplete student information provided.\")\n",
    "\n",
    "# Calling function to Display student information\n",
    "for student in student_list:\n",
    "    print_student_info(**student)\n",
    "    print()\n",
    "\n",
    "#\n",
    "\n",
    "\n"
   ]
  },
  {
   "cell_type": "code",
   "execution_count": null,
   "metadata": {},
   "outputs": [],
   "source": [
    "# Create a dictionary that contains usernames as the key and passwords as the associated values. Make up the data for five dictionary entries and demonstrate the use of clear and fromkeys() methods.\n",
    "\n",
    "user_pass = {\n",
    "\n",
    "}\n",
    "\n",
    "# Make a function to take inputs from user and place it into dictioniary and repeat it until the number of students entered by user\n",
    "def user_pass_info():\n",
    "    user_pass_info = {}\n",
    "    user_pass_info['username'] = input(\"Enter the username: \")\n",
    "    user_pass_info['password'] = input(\"Enter the password: \")\n",
    "    return user_pass_info\n",
    "\n",
    "# Make a list of dictionaries of student information\n",
    "user_pass_list = []\n",
    "for i in range(5):\n",
    "    user_pass_list.append(user_pass_info())\n",
    "\n",
    "# Function to print student information\n",
    "\n",
    "def print_user_pass_info(**kwargs):\n",
    "    if all(key in kwargs for key in ('username', 'password')):\n",
    "        print(\"User Information:\")\n",
    "        print(f\"Username: {kwargs['username']}\")\n",
    "        print(f\"Password: {kwargs['password']}\")\n",
    "    else:\n",
    "        print(\"Incomplete user information provided.\")\n",
    "\n",
    "# Calling function to Display student information\n",
    "\n",
    "for user in user_pass_list:\n",
    "    print_user_pass_info(**user)\n",
    "    print()\n",
    "\n"
   ]
  },
  {
   "cell_type": "code",
   "execution_count": 1,
   "metadata": {},
   "outputs": [
    {
     "name": "stdout",
     "output_type": "stream",
     "text": [
      "Number of occurrences of  in : 0\n"
     ]
    }
   ],
   "source": [
    "# Write a function that finds the number of occurrences of a specified character in a string.\n",
    "\n",
    "def char_count(st_inp, char):\n",
    "    count = 0\n",
    "    for letter in st_inp:\n",
    "        if letter == char:\n",
    "            count += 1\n",
    "    return count\n",
    "\n",
    "st_inp = input(\"Enter a string: \")\n",
    "char = input(\"Enter a character: \")\n",
    "count = char_count(st_inp, char)\n",
    "print(f\"Number of occurrences of {char} in {st_inp}: {count}\")\n",
    "\n"
   ]
  },
  {
   "cell_type": "code",
   "execution_count": null,
   "metadata": {},
   "outputs": [],
   "source": [
    "# Make a list of the first eight letters of the alphabet, then using the slice operation, do the following operations:\n",
    "# a. Print the first three letters of the alphabet.\n",
    "# b. Print any three letters from the middle.\n",
    "# c. Print the letters from any particular index to the end of the list\n",
    "\n",
    "letters = ['a', 'b', 'c', 'd', 'e', 'f', 'g', 'h']\n",
    "print(\"First three letters:\", alphabet[:3])\n",
    "middle_index = len(alphabet) // 2\n",
    "print(\"Middle three letters:\", alphabet[middle_index:middle_index + 3])\n",
    "start_index = int(input(\"-> Enter the start index: \"))\n",
    "print(f\"Letters from index {start_index} to the end:\", alphabet[start_index:])\n",
    "\n"
   ]
  },
  {
   "cell_type": "code",
   "execution_count": 1,
   "metadata": {},
   "outputs": [],
   "source": [
    "# Write a Python program with the dictionary of your friends \" names as keys and phone numbers as its values. Print the dictionary in a sorted order. Prompt the user to enter the name and check if it is present in the dictionary. If the name is not present,  then enter the details in the dictionary.\n",
    "\n",
    "def display_sorted_dict(phonebook):\n",
    "    sorted_phonebook = dict(sorted(phonebook.items()))\n",
    "    print(\"Sorted Phonebook:\")\n",
    "    for name, number in sorted_phonebook.items():\n",
    "        print(f\"{name}: {number}\")\n",
    "\n",
    "def main():\n",
    "    # Initial phonebook dictionary\n",
    "    friends_phonebook = {\n",
    "        \"Friend1\": \"1334523413\",\n",
    "        \"Friend2\": \"3292454355\",\n",
    "        \"Friend3\": \"4423942359\"\n",
    "    }\n",
    "\n",
    "    # Display the sorted phonebook\n",
    "    display_sorted_dict(friends_phonebook)\n",
    "\n",
    "    # Prompt user to enter a name\n",
    "    name_to_search = input(\"Enter a friend's name: \")\n",
    "\n",
    "    # Check if the name is present in the dictionary\n",
    "    if name_to_search in friends_phonebook:\n",
    "        print(f\"{name_to_search}'s phone number is: {friends_phonebook[name_to_search]}\")\n",
    "    else:\n",
    "        # If the name is not present, prompt user to enter details\n",
    "        print(f\"{name_to_search} is not in the phonebook.\")\n",
    "        number_to_add = input(f\"Enter {name_to_search}'s phone number: \")\n",
    "        friends_phonebook[name_to_search] = number_to_add\n",
    "        print(f\"{name_to_search}'s phone number has been added to the phonebook.\")\n",
    "\n",
    "    # Display the updated and sorted phonebook\n",
    "    display_sorted_dict(friends_phonebook)\n",
    "\n"
   ]
  },
  {
   "cell_type": "code",
   "execution_count": 2,
   "metadata": {},
   "outputs": [
    {
     "name": "stdout",
     "output_type": "stream",
     "text": [
      "Dictionary before modifications:\n",
      "{'': ''}\n",
      "\n",
      "Dictionary after using clear method:\n",
      "{}\n",
      "\n",
      "Dictionary after using fromkeys method:\n",
      "{'user1': 'default_password', 'user2': 'default_password', 'user3': 'default_password', 'user4': 'default_password', 'user5': 'default_password'}\n"
     ]
    }
   ],
   "source": [
    "# Create a dictionary for usernames and passwords\n",
    "user_pass = {}\n",
    "\n",
    "# Make a function to take inputs from the user and place them into the dictionary\n",
    "def user_pass_info():\n",
    "    username = input(\"Enter the username: \")\n",
    "    password = input(\"Enter the password: \")\n",
    "    user_pass[username] = password\n",
    "\n",
    "# Collect information for five users\n",
    "for i in range(5):\n",
    "    user_pass_info()\n",
    "\n",
    "# Display the dictionary before using clear and fromkeys methods\n",
    "print(\"Dictionary before modifications:\")\n",
    "print(user_pass)\n",
    "print()\n",
    "\n",
    "# Demonstrate the clear method\n",
    "user_pass.clear()\n",
    "print(\"Dictionary after using clear method:\")\n",
    "print(user_pass)\n",
    "print()\n",
    "\n",
    "# Demonstrate the fromkeys method to initialize the dictionary with default passwords\n",
    "default_password = \"default_password\"\n",
    "default_usernames = [\"user1\", \"user2\", \"user3\", \"user4\", \"user5\"]\n",
    "user_pass = dict.fromkeys(default_usernames, default_password)\n",
    "print(\"Dictionary after using fromkeys method:\")\n",
    "print(user_pass)\n",
    "\n",
    "\n"
   ]
  },
  {
   "cell_type": "code",
   "execution_count": 3,
   "metadata": {},
   "outputs": [
    {
     "name": "stdout",
     "output_type": "stream",
     "text": [
      "3 exists in (1, 2, 3, 4, 5).\n",
      "Tuple: ('1', '2', '3')\n"
     ]
    }
   ],
   "source": [
    "# Write a Python program. \n",
    "# a. To check whether an item exists within a tuple.\n",
    "\n",
    "def check_item_exists(tup, item):\n",
    "    if item in tup:\n",
    "        print(f\"{item} exists in {tup}.\")\n",
    "    else:\n",
    "        print(f\"{item} does not exist in {tup}.\")\n",
    "\n",
    "tup = (1, 2, 3, 4, 5)\n",
    "item = int(input(\"Enter an item to check: \"))\n",
    "check_item_exists(tup, item)\n",
    "\n",
    "# Inputs\n",
    "# 3\n",
    "\n",
    "\n",
    "# Write a Python program. \n",
    "# b. To create a list containing three elements, and then create a tuple from that list.\n",
    "\n",
    "def create_tuple_from_list(lst):\n",
    "    tup = tuple(lst)\n",
    "    print(f\"Tuple: {tup}\")\n",
    "\n",
    "user_input = int(input(\"Enter number of inputs to enter: \") )\n",
    "    \n",
    "lst = []\n",
    "for i in range(user_input):\n",
    "    lst.append(input(\"Enter an element: \"))\n",
    "create_tuple_from_list(lst)\n",
    "\n",
    "# Inputs\n",
    "# 3\n",
    "# 1, 2, 3\n",
    "\n",
    "\n"
   ]
  },
  {
   "cell_type": "code",
   "execution_count": null,
   "metadata": {},
   "outputs": [],
   "source": [
    "# Write a Python program that reads the contents of the file and counts the occurrences of each letter. Prompt the user to enter the filename.\n",
    "\n",
    "def count_letters(filename):\n",
    "    with open(filename, \"r\") as file:\n",
    "        contents = file.read()\n",
    "        letter_counts = {}\n",
    "        for letter in contents:\n",
    "            if letter in letter_counts:\n",
    "                letter_counts[letter] += 1\n",
    "            else:\n",
    "                letter_counts[letter] = 1\n",
    "        return letter_counts\n",
    "    \n",
    "filename = input(\"Enter the filename: \")\n",
    "letter_counts = count_letters(filename)\n",
    "print(\"Letter Counts:\")\n",
    "for letter, count in letter_counts.items():\n",
    "    print(f\"{letter}: {count}\")\n",
    "\n",
    "# Inputs\n",
    "# test.txt\n"
   ]
  },
  {
   "cell_type": "code",
   "execution_count": null,
   "metadata": {},
   "outputs": [],
   "source": [
    "def find_numbers(input_string):\n",
    "    words = input_string.split()\n",
    "    result = []\n",
    "\n",
    "    for word in words:\n",
    "        if word.isdigit() and 1 <= len(word) <= 3:\n",
    "            result.append(word)\n",
    "\n",
    "    return result\n",
    "\n",
    "# Example usage:\n",
    "input_str = \"The numbers are 42, 123, 7, and 456.\"\n",
    "result = find_numbers(input_str)\n",
    "print(\"Numbers found:\", result)\n"
   ]
  },
  {
   "cell_type": "code",
   "execution_count": null,
   "metadata": {},
   "outputs": [],
   "source": []
  }
 ],
 "metadata": {
  "kernelspec": {
   "display_name": "Python 3",
   "language": "python",
   "name": "python3"
  },
  "language_info": {
   "codemirror_mode": {
    "name": "ipython",
    "version": 3
   },
   "file_extension": ".py",
   "mimetype": "text/x-python",
   "name": "python",
   "nbconvert_exporter": "python",
   "pygments_lexer": "ipython3",
   "version": "3.10.0"
  },
  "orig_nbformat": 4
 },
 "nbformat": 4,
 "nbformat_minor": 2
}
